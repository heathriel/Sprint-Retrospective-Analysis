{
 "cells": [
  {
   "cell_type": "markdown",
   "id": "e06052a8",
   "metadata": {},
   "source": [
    "\n",
    "# Sprint Retrospective Analysis\n",
    "\n",
    "## Objective\n",
    "Analyze historical sprint data to identify areas for improvement and enhance future sprint planning.\n",
    "\n",
    "## Instructions\n",
    "Follow the steps provided in this notebook to load the data, preprocess it, perform exploratory data analysis, and draw insights for sprint retrospectives.\n"
   ]
  },
  {
   "cell_type": "code",
   "execution_count": null,
   "id": "f694dbea",
   "metadata": {},
   "outputs": [],
   "source": [
    "\n",
    "# Step 1: Load the Dataset\n",
    "import pandas as pd\n",
    "\n",
    "# Load dataset\n",
    "data = pd.read_csv('sprint_data.csv')\n",
    "\n",
    "# Explore dataset\n",
    "print(\"First 5 rows of the dataset:\")\n",
    "print(data.head())\n",
    "print(\"\\nSummary statistics of the dataset:\")\n",
    "print(data.describe())\n"
   ]
  },
  {
   "cell_type": "code",
   "execution_count": null,
   "id": "6a274d4b",
   "metadata": {},
   "outputs": [],
   "source": [
    "\n",
    "# Step 2: Data Preprocessing\n",
    "\n",
    "# Handle missing values (if any)\n",
    "data = data.dropna()\n",
    "\n",
    "# Select relevant columns\n",
    "relevant_columns = ['sprint_id', 'team_member', 'task_id', 'task_description', 'estimated_hours', 'actual_hours', 'completion_status']\n",
    "data = data[relevant_columns]\n",
    "\n",
    "# Display the first few rows of the preprocessed dataset\n",
    "print(\"First 5 rows of the preprocessed dataset:\")\n",
    "print(data.head())\n"
   ]
  },
  {
   "cell_type": "code",
   "execution_count": null,
   "id": "34f9ea98",
   "metadata": {},
   "outputs": [],
   "source": [
    "\n",
    "# Step 3: Exploratory Data Analysis\n",
    "\n",
    "import matplotlib.pyplot as plt\n",
    "import seaborn as sns\n",
    "\n",
    "# Plot task completion rates\n",
    "completion_rate = data['completion_status'].value_counts(normalize=True) * 100\n",
    "plt.figure(figsize=(8, 5))\n",
    "sns.barplot(x=completion_rate.index, y=completion_rate.values)\n",
    "plt.title('Task Completion Rates')\n",
    "plt.xlabel('Completion Status')\n",
    "plt.ylabel('Percentage')\n",
    "plt.show()\n",
    "\n",
    "# Plot estimated vs actual time\n",
    "plt.figure(figsize=(10, 6))\n",
    "sns.scatterplot(x='estimated_hours', y='actual_hours', data=data, hue='completion_status')\n",
    "plt.title('Estimated vs Actual Time for Tasks')\n",
    "plt.xlabel('Estimated Hours')\n",
    "plt.ylabel('Actual Hours')\n",
    "plt.show()\n"
   ]
  },
  {
   "cell_type": "code",
   "execution_count": null,
   "id": "b93f3f24",
   "metadata": {},
   "outputs": [],
   "source": [
    "\n",
    "# Step 4: Drawing Insights\n",
    "\n",
    "# Calculate difference between estimated and actual hours\n",
    "data['time_diff'] = data['actual_hours'] - data['estimated_hours']\n",
    "\n",
    "# Identify tasks with the highest time difference\n",
    "high_diff_tasks = data.nlargest(10, 'time_diff')\n",
    "\n",
    "# Display the tasks with the highest time differences\n",
    "print(\"Tasks with the highest differences between estimated and actual hours:\")\n",
    "print(high_diff_tasks[['task_id', 'task_description', 'estimated_hours', 'actual_hours', 'time_diff']])\n"
   ]
  },
  {
   "cell_type": "markdown",
   "id": "conclusion",
   "metadata": {},
   "source": [
    "\n",
    "## Conclusion\n",
    "\n",
    "In this analysis, we loaded and preprocessed sprint data, conducted exploratory data analysis to visualize task completion rates and time discrepancies, and identified tasks with significant differences between estimated and actual hours. By leveraging these insights, teams can improve sprint planning, allocate resources more effectively, and enhance overall productivity.\n",
    "\n",
    "Further analysis can include trend analysis over multiple sprints and correlation analysis between different variables to gain deeper insights into the factors influencing sprint outcomes.\n"
   ]
  }
 ],
 "metadata": {},
 "nbformat": 4,
 "nbformat_minor": 5
}